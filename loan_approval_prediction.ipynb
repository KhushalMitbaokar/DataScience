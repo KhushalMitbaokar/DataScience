{
  "nbformat": 4,
  "nbformat_minor": 0,
  "metadata": {
    "colab": {
      "name": "loan approval prediction.ipynb",
      "provenance": [],
      "collapsed_sections": [],
      "authorship_tag": "ABX9TyOEUVefQOX8nbInA9OvCtzs",
      "include_colab_link": true
    },
    "kernelspec": {
      "name": "python3",
      "display_name": "Python 3"
    }
  },
  "cells": [
    {
      "cell_type": "markdown",
      "metadata": {
        "id": "view-in-github",
        "colab_type": "text"
      },
      "source": [
        "<a href=\"https://colab.research.google.com/github/KhushalMitbaokar/DataScience/blob/main/loan_approval_prediction.ipynb\" target=\"_parent\"><img src=\"https://colab.research.google.com/assets/colab-badge.svg\" alt=\"Open In Colab\"/></a>"
      ]
    },
    {
      "cell_type": "code",
      "metadata": {
        "colab": {
          "base_uri": "https://localhost:8080/"
        },
        "id": "2h24PDGOVwq9",
        "outputId": "4c93f2f5-f7f5-47f8-e402-811b50300394"
      },
      "source": [
        "import pandas as pd\n",
        "import numpy as np\n",
        "from sklearn import model_selection\n",
        "from sklearn.metrics import accuracy_score\n",
        "from sklearn.linear_model import LogisticRegression,LinearRegression\n",
        "from sklearn.ensemble import RandomForestClassifier\n",
        "from sklearn.tree import DecisionTreeClassifier\n",
        "url = \"https://raw.githubusercontent.com/callxpert/datasets/master/Loan-applicant-details.csv\"\n",
        "names = ['Loan_ID','Gender','Married','Dependents','Education','Self_Employed','ApplicantIncome','CoapplicantIncome','LoanAmount','Loan_Amount_Term','Credit_History','Property_Area','Loan_Status']\n",
        "dataset = pd.read_csv(url, names=names)\n",
        "#print(dataset.head(1))\n",
        "from sklearn.preprocessing import LabelEncoder\n",
        "var_mod = ['Gender','Married','Dependents','Education','Self_Employed','Property_Area','Loan_Status']\n",
        "le = LabelEncoder()\n",
        "for i in var_mod:\n",
        "    dataset[i] = le.fit_transform(dataset[i])\n",
        "array = dataset.values\n",
        "print(array)\n",
        "X = array[:,6:11]\n",
        "Y = array[:,12]\n",
        "Y=Y.astype('int')\n",
        "x_train, x_test, y_train, y_test = model_selection.train_test_split(X, Y, test_size=0.2, random_state=7)\n",
        "\n",
        "print(\"x_train\")\n",
        "print(x_train)\n",
        "print(\"y_train\")\n",
        "print(y_train)\n",
        "print(\"X_test\")\n",
        "print(x_test)\n",
        "print(\"y_test\")\n",
        "print(y_test)\n",
        "x = np.zeros(5)    \n",
        "x[0] = 1500   # applicant income\n",
        "x[1] = 0      # coapplicant income\n",
        "x[2] = 500    # loan amount\n",
        "x[3] = 365    # loan amount term\n",
        "x[4] = 1      # credit history\n",
        "\n",
        "model = LogisticRegression()\n",
        "model.fit(x_train,y_train)\n",
        "predictions = model.predict(x_test)\n",
        "print(\"Accuracy in LogisticRegression :\")\n",
        "print(accuracy_score(y_test, predictions))\n",
        "\n",
        "temp = model.predict([x])[0]\n",
        "print(\"Sample prediction :\")\n",
        "print(temp)\n",
        "\n",
        "model = DecisionTreeClassifier()\n",
        "model.fit(x_train,y_train)\n",
        "predictions = model.predict(x_test)\n",
        "print(\"Accuracy in DecisionTreeClassifier :\")\n",
        "print(accuracy_score(y_test, predictions))\n",
        "\n",
        "temp = model.predict([x])[0]\n",
        "print(\"Sample prediction :\")\n",
        "print(temp)\n",
        "\n",
        "model = RandomForestClassifier(n_estimators=100)\n",
        "model.fit(x_train,y_train)\n",
        "predictions = model.predict(x_test)\n",
        "print(\"Accuracy in RandomForestClassifier :\")\n",
        "print(accuracy_score(y_test, predictions))\n",
        "\n",
        "temp = model.predict([x])[0]\n",
        "print(\"Sample prediction :\")\n",
        "print(temp)"
      ],
      "execution_count": null,
      "outputs": [
        {
          "output_type": "stream",
          "text": [
            "[['LP001003' 1 1 ... 1 0 0]\n",
            " ['LP001005' 1 1 ... 1 2 1]\n",
            " ['LP001006' 1 1 ... 1 2 1]\n",
            " ...\n",
            " ['LP002983' 1 1 ... 1 2 1]\n",
            " ['LP002984' 1 1 ... 1 2 1]\n",
            " ['LP002990' 0 0 ... 0 1 0]]\n",
            "Accuracy in LogisticRegression :\n",
            "0.7708333333333334\n",
            "Sample prediction :\n",
            "1\n",
            "Accuracy in DecisionTreeClassifier :\n",
            "0.6354166666666666\n",
            "Sample prediction :\n",
            "1\n",
            "Accuracy in RandomForestClassifier :\n",
            "0.75\n",
            "Sample prediction :\n",
            "0\n"
          ],
          "name": "stdout"
        }
      ]
    }
  ]
}