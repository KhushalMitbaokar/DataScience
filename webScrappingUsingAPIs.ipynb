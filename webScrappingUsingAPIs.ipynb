{
  "nbformat": 4,
  "nbformat_minor": 0,
  "metadata": {
    "colab": {
      "name": "webScrappingUsingAPIs.ipynb",
      "provenance": [],
      "authorship_tag": "ABX9TyNLo3t3P03vs3oImOwPz/tJ",
      "include_colab_link": true
    },
    "kernelspec": {
      "name": "python3",
      "display_name": "Python 3"
    }
  },
  "cells": [
    {
      "cell_type": "markdown",
      "metadata": {
        "id": "view-in-github",
        "colab_type": "text"
      },
      "source": [
        "<a href=\"https://colab.research.google.com/github/KhushalMitbaokar/DataScience/blob/main/webScrappingUsingAPIs.ipynb\" target=\"_parent\"><img src=\"https://colab.research.google.com/assets/colab-badge.svg\" alt=\"Open In Colab\"/></a>"
      ]
    },
    {
      "cell_type": "code",
      "metadata": {
        "colab": {
          "base_uri": "https://localhost:8080/"
        },
        "id": "8-JY1wuvGj1s",
        "outputId": "bc3821d4-a006-4c42-f006-c79c2190adda"
      },
      "source": [
        "import requests\n",
        "\n",
        "url = \"https://community-open-weather-map.p.rapidapi.com/weather\"\n",
        "\n",
        "querystring = {\"q\":\"London,uk\",\"lat\":\"0\",\"lon\":\"0\",\"callback\":\"test\",\"id\":\"2172797\",\"lang\":\"null\",\"units\":\"\\\"metric\\\" or \\\"imperial\\\"\",\"mode\":\"xml, html\"}\n",
        "\n",
        "headers = {\n",
        "    'x-rapidapi-key': \"13fb610c24mshe487dd64a2d597ap1c66aajsnf34d103782d2\",\n",
        "    'x-rapidapi-host': \"community-open-weather-map.p.rapidapi.com\"\n",
        "    }\n",
        "\n",
        "response = requests.request(\"GET\", url, headers=headers, params=querystring)\n",
        "print(\"Khushal MItbaokar\")\n",
        "print(response.text)"
      ],
      "execution_count": 1,
      "outputs": [
        {
          "output_type": "stream",
          "text": [
            "Khushal MItbaokar\n",
            "test({\"coord\":{\"lon\":-0.1257,\"lat\":51.5085},\"weather\":[{\"id\":501,\"main\":\"Rain\",\"description\":\"moderate rain\",\"icon\":\"10d\"}],\"base\":\"stations\",\"main\":{\"temp\":296.44,\"feels_like\":296.7,\"temp_min\":292.14,\"temp_max\":299.01,\"pressure\":1010,\"humidity\":72},\"visibility\":10000,\"wind\":{\"speed\":3.09,\"deg\":180},\"rain\":{\"1h\":2.46},\"clouds\":{\"all\":81},\"dt\":1623872855,\"sys\":{\"type\":2,\"id\":2019646,\"country\":\"GB\",\"sunrise\":1623814962,\"sunset\":1623874789},\"timezone\":3600,\"id\":2643743,\"name\":\"London\",\"cod\":200})\n"
          ],
          "name": "stdout"
        }
      ]
    },
    {
      "cell_type": "code",
      "metadata": {
        "colab": {
          "base_uri": "https://localhost:8080/"
        },
        "id": "YFlC2ZJ9aUwA",
        "outputId": "9d43590d-b327-4cc6-cbe8-b2f37a7a7ca0"
      },
      "source": [
        "import json\n",
        "\n",
        "# some JSON:\n",
        "x =  '{\"coord\":{\"lon\":-0.1257,\"lat\":51.5085},\"weather\":[{\"id\":804,\"main\":\"Clouds\",\"description\":\"overcast clouds\",\"icon\":\"04d\"}],\"base\":\"stations\",\"main\":{\"temp\":277.24,\"feels_like\":273.59,\"temp_min\":276.48,\"temp_max\":278.15,\"pressure\":1024,\"humidity\":93},\"visibility\":10000,\"wind\":{\"speed\":3.09,\"deg\":360},\"clouds\":{\"all\":90},\"dt\":1614847584,\"sys\":{\"type\":1,\"id\":1414,\"country\":\"GB\",\"sunrise\":1614839950,\"sunset\":1614879933},\"timezone\":0,\"id\":2643743,\"name\":\"London\",\"cod\":200}'\n",
        "\n",
        "# parse x:\n",
        "y = json.loads(x)\n",
        "\n",
        "# the result is a Python dictionary:\n",
        "print(y[\"weather\"])\n",
        "z=y['weather']\n",
        "print(z)\n",
        "i=0\n",
        "print(type(y))\n",
        "#for each in y:\n",
        " #   print(each,' : ', y.get(each))\n",
        "for each in y.values():\n",
        "    print(each);\n",
        "    #for x in each:\n",
        "    #  print(x)\n",
        "    "
      ],
      "execution_count": 3,
      "outputs": [
        {
          "output_type": "stream",
          "text": [
            "[{'id': 804, 'main': 'Clouds', 'description': 'overcast clouds', 'icon': '04d'}]\n",
            "[{'id': 804, 'main': 'Clouds', 'description': 'overcast clouds', 'icon': '04d'}]\n",
            "<class 'dict'>\n",
            "{'lon': -0.1257, 'lat': 51.5085}\n",
            "[{'id': 804, 'main': 'Clouds', 'description': 'overcast clouds', 'icon': '04d'}]\n",
            "stations\n",
            "{'temp': 277.24, 'feels_like': 273.59, 'temp_min': 276.48, 'temp_max': 278.15, 'pressure': 1024, 'humidity': 93}\n",
            "10000\n",
            "{'speed': 3.09, 'deg': 360}\n",
            "{'all': 90}\n",
            "1614847584\n",
            "{'type': 1, 'id': 1414, 'country': 'GB', 'sunrise': 1614839950, 'sunset': 1614879933}\n",
            "0\n",
            "2643743\n",
            "London\n",
            "200\n"
          ],
          "name": "stdout"
        }
      ]
    }
  ]
}