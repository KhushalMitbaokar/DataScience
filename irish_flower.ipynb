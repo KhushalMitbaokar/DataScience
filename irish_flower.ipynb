{
  "nbformat": 4,
  "nbformat_minor": 0,
  "metadata": {
    "colab": {
      "name": "irish flower.ipynb",
      "provenance": [],
      "include_colab_link": true
    },
    "kernelspec": {
      "name": "python3",
      "display_name": "Python 3"
    }
  },
  "cells": [
    {
      "cell_type": "markdown",
      "metadata": {
        "id": "view-in-github",
        "colab_type": "text"
      },
      "source": [
        "<a href=\"https://colab.research.google.com/github/KhushalMitbaokar/DataScience/blob/main/irish_flower.ipynb\" target=\"_parent\"><img src=\"https://colab.research.google.com/assets/colab-badge.svg\" alt=\"Open In Colab\"/></a>"
      ]
    },
    {
      "cell_type": "code",
      "metadata": {
        "colab": {
          "base_uri": "https://localhost:8080/"
        },
        "id": "7iuxFJ8-jpDE",
        "outputId": "0f4c5c8d-f8f7-4fd4-d63c-3ace1ac33dad"
      },
      "source": [
        "from sklearn.datasets import load_iris\n",
        "from sklearn.model_selection import train_test_split\n",
        "from sklearn.neighbors import KNeighborsClassifier\n",
        "import numpy as np\n",
        "iris_dataset = load_iris()\n",
        "print(\"Target names: {}\".format(iris_dataset['target_names']))\n",
        "print(\"Feature names: {}\".format(iris_dataset['feature_names']))\n",
        "print(\"Type of data: {}\".format(type(iris_dataset['data'])))\n",
        "print(\"Shape of data: {}\".format(iris_dataset['data'].shape))\n",
        "print(\"Type of data: {}\".format(type(iris_dataset['target'])))\n",
        "X_train, X_test, Y_train, Y_test = train_test_split(iris_dataset['data'], iris_dataset['target'], random_state = 0)\n",
        "print(\"X_train shape: {}\".format(X_train.shape))\n",
        "print(\"Y_train shape: {}\".format(Y_train.shape))\n",
        "print(\"X_test shape: {}\".format(X_test.shape))\n",
        "print(\"Y_test shape: {}\".format(Y_test.shape))\n",
        "knn = KNeighborsClassifier(n_neighbors=1)\n",
        "knn.fit(X_train, Y_train)\n",
        "Y_pred = knn.predict(X_test)\n",
        "print(\"Test set predictions:\\n {}\".format(Y_pred))\n",
        "print(\"Test set score (np.means): {:.2f}\".format(np.mean(Y_pred == Y_test)))\n",
        "print(\"Test set score (np.score): {:.2f}\".format(knn.score(X_test, Y_test)))\n",
        "X_new = np.array([[4,8.9,12,3.2]])\n",
        "print(\"X_new.shape: {}\".format(X_new.shape))\n",
        " \n",
        "prediction = knn.predict(X_new)\n",
        "print(\"Prediction: {}\".format(prediction))\n",
        "print(\"Predicted target name: {}\".format(iris_dataset['target_names'][prediction]))"
      ],
      "execution_count": 1,
      "outputs": [
        {
          "output_type": "stream",
          "text": [
            "Target names: ['setosa' 'versicolor' 'virginica']\n",
            "Feature names: ['sepal length (cm)', 'sepal width (cm)', 'petal length (cm)', 'petal width (cm)']\n",
            "Type of data: <class 'numpy.ndarray'>\n",
            "Shape of data: (150, 4)\n",
            "Type of data: <class 'numpy.ndarray'>\n",
            "X_train shape: (112, 4)\n",
            "Y_train shape: (112,)\n",
            "X_test shape: (38, 4)\n",
            "Y_test shape: (38,)\n",
            "Test set predictions:\n",
            " [2 1 0 2 0 2 0 1 1 1 2 1 1 1 1 0 1 1 0 0 2 1 0 0 2 0 0 1 1 0 2 1 0 2 2 1 0\n",
            " 2]\n",
            "Test set score (np.means): 0.97\n",
            "Test set score (np.score): 0.97\n",
            "X_new.shape: (1, 4)\n",
            "Prediction: [2]\n",
            "Predicted target name: ['virginica']\n"
          ],
          "name": "stdout"
        }
      ]
    },
    {
      "cell_type": "code",
      "metadata": {
        "id": "mvVOjj-YYe5o"
      },
      "source": [
        ""
      ],
      "execution_count": null,
      "outputs": []
    }
  ]
}